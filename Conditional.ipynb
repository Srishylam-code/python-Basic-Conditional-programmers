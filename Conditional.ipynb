{
  "nbformat": 4,
  "nbformat_minor": 0,
  "metadata": {
    "colab": {
      "provenance": [],
      "authorship_tag": "ABX9TyM9qgHB7uJhk9cwz55ImIuW",
      "include_colab_link": true
    },
    "kernelspec": {
      "name": "python3",
      "display_name": "Python 3"
    },
    "language_info": {
      "name": "python"
    }
  },
  "cells": [
    {
      "cell_type": "markdown",
      "metadata": {
        "id": "view-in-github",
        "colab_type": "text"
      },
      "source": [
        "<a href=\"https://colab.research.google.com/github/Srishylam-code/python-Basic-Conditional-programmers/blob/main/Conditional.ipynb\" target=\"_parent\"><img src=\"https://colab.research.google.com/assets/colab-badge.svg\" alt=\"Open In Colab\"/></a>"
      ]
    },
    {
      "cell_type": "code",
      "execution_count": null,
      "metadata": {
        "colab": {
          "base_uri": "https://localhost:8080/"
        },
        "id": "CeOxip26uGlS",
        "outputId": "dcd89aff-7b2f-40d9-aed5-3ba1ac367609"
      },
      "outputs": [
        {
          "output_type": "stream",
          "name": "stdout",
          "text": [
            "10\n",
            "5\n",
            "sum:  15\n"
          ]
        }
      ],
      "source": [
        "a = int(input())\n",
        "b = int(input())\n",
        "sum = a+b\n",
        "print(\"sum: \",sum)"
      ]
    },
    {
      "cell_type": "code",
      "source": [
        "Celsius = float(input())\n",
        "farenheit = Celsius*(9/5)+32\n",
        "Kelvins = 273 + Celsius\n",
        "print(\"farenheit :\",farenheit)\n",
        "print(\"Kelvins : \",Kelvins)\n"
      ],
      "metadata": {
        "colab": {
          "base_uri": "https://localhost:8080/"
        },
        "id": "lE5At8bv3IHl",
        "outputId": "acd8063c-523c-4029-ccbc-40f0dd8d98c9"
      },
      "execution_count": null,
      "outputs": [
        {
          "output_type": "stream",
          "name": "stdout",
          "text": [
            "30\n",
            "farenheit : 86.0\n",
            "Kelvins :  303.0\n"
          ]
        }
      ]
    },
    {
      "cell_type": "code",
      "source": [
        "USD = int(input())\n",
        "IND_Rupee = 85\n",
        "money = USD*IND_Rupee\n",
        "print(f\"USD IN TOTAL IS : {money}\")\n",
        "\n",
        "euro = 0.85\n",
        "money = USD*euro\n",
        "print(f\"USD IN TOTAL IS : {money}\")"
      ],
      "metadata": {
        "colab": {
          "base_uri": "https://localhost:8080/"
        },
        "id": "vxvcieL_5vE9",
        "outputId": "455d95c6-50fe-4ba2-c40b-7ebfc7c54aa2"
      },
      "execution_count": null,
      "outputs": [
        {
          "output_type": "stream",
          "name": "stdout",
          "text": [
            "100\n",
            "USD IN TOTAL IS : 8500\n",
            "USD IN TOTAL IS : 85.0\n"
          ]
        }
      ]
    },
    {
      "cell_type": "code",
      "source": [
        "import math\n",
        "a = int(input(\"Enter a value : \"))\n",
        "b = int(input(\"Enter b value : \"))\n",
        "c = int(input(\"Enter c value : \"))\n",
        "d = b*b-4*a*c\n",
        "e = (math.sqrt(d))\n",
        "root1 = (-b+e)/(2*a)\n",
        "root2 = (-b-e)/(2*a)\n",
        "print(f\"Root1:{root1},Root2:{root2}\")\n",
        "\n"
      ],
      "metadata": {
        "colab": {
          "base_uri": "https://localhost:8080/"
        },
        "id": "mE2jl6ik7Q1m",
        "outputId": "50a92958-7a6a-4f19-dc42-ba8558b1d9c0"
      },
      "execution_count": null,
      "outputs": [
        {
          "output_type": "stream",
          "name": "stdout",
          "text": [
            "Enter a value : 1\n",
            "Enter b value : -3\n",
            "Enter c value : 2\n",
            "Root1:2.0,Root2:1.0\n"
          ]
        }
      ]
    },
    {
      "cell_type": "code",
      "source": [
        "import math\n",
        "a=16\n",
        "b=(math.sqrt(a))\n",
        "print(b)"
      ],
      "metadata": {
        "colab": {
          "base_uri": "https://localhost:8080/"
        },
        "id": "-suWPQIl9QIb",
        "outputId": "98e96c1a-8d2a-4a67-e57a-9cde880d0b15"
      },
      "execution_count": null,
      "outputs": [
        {
          "output_type": "stream",
          "name": "stdout",
          "text": [
            "4.0\n"
          ]
        }
      ]
    },
    {
      "cell_type": "code",
      "source": [
        "a=float(input())\n",
        "b=float(input())\n",
        "e=input(\"Enter a opr :\")\n",
        "if (e==\"+\"):\n",
        "  print(\"sum:\",a+b)\n",
        "elif (e==\"-\"):\n",
        "  print(\"sub:\",a-b)\n",
        "elif (e==\"*\"):\n",
        "  print(\"sub:\",a*b)\n",
        "elif (e==\"/\"):\n",
        "  print(\"sub:\",a/b)\n",
        "elif (e==\"%\"):\n",
        "  print(\"sub:\",a%b)\n",
        "else:\n",
        "  print(\"INVALID OPR\")\n",
        "\n",
        "\n"
      ],
      "metadata": {
        "colab": {
          "base_uri": "https://localhost:8080/"
        },
        "id": "4n3IzldkBnJo",
        "outputId": "ff13f956-0409-4053-9f4f-3281acb352d0"
      },
      "execution_count": null,
      "outputs": [
        {
          "output_type": "stream",
          "name": "stdout",
          "text": [
            "4\n",
            "6\n",
            "Enter a opr :+\n",
            "sum: 10.0\n"
          ]
        }
      ]
    },
    {
      "cell_type": "code",
      "source": [
        "a=int(input())\n",
        "if (a%2==\"0\"):\n",
        "  print(f\"Number {a} is even\")\n",
        "else:\n",
        "  print(f\"Number {a} is odd\")"
      ],
      "metadata": {
        "colab": {
          "base_uri": "https://localhost:8080/"
        },
        "id": "HyH6rHpYJxj5",
        "outputId": "7a8166eb-3bf5-414a-d2d3-0ac52d64558f"
      },
      "execution_count": null,
      "outputs": [
        {
          "output_type": "stream",
          "name": "stdout",
          "text": [
            "1\n",
            "Number 1 is odd\n"
          ]
        }
      ]
    },
    {
      "cell_type": "code",
      "source": [
        "age = int(input())\n",
        "if (age>=18 and age<=150):\n",
        "  print(f\"The person age is {age} , so he/she is eligible to vote\")\n",
        "else:\n",
        "  print(f\"The person age is {age} , so he/she is not eligible to vote\")"
      ],
      "metadata": {
        "colab": {
          "base_uri": "https://localhost:8080/"
        },
        "id": "yOnnhOVbMsVP",
        "outputId": "48dbf8c1-c82c-4d37-fe30-bd255906a40d"
      },
      "execution_count": null,
      "outputs": [
        {
          "output_type": "stream",
          "name": "stdout",
          "text": [
            "14\n",
            "The person age is 14 , so he/she is not eligible to vote\n"
          ]
        }
      ]
    }
  ]
}