{
  "nbformat": 4,
  "nbformat_minor": 0,
  "metadata": {
    "colab": {
      "provenance": [],
      "authorship_tag": "ABX9TyPsLN348mBtGxuu7ApRC3ij",
      "include_colab_link": true
    },
    "kernelspec": {
      "name": "python3",
      "display_name": "Python 3"
    },
    "language_info": {
      "name": "python"
    }
  },
  "cells": [
    {
      "cell_type": "markdown",
      "metadata": {
        "id": "view-in-github",
        "colab_type": "text"
      },
      "source": [
        "<a href=\"https://colab.research.google.com/github/Srishylam-code/Python/blob/main/Strings.ipynb\" target=\"_parent\"><img src=\"https://colab.research.google.com/assets/colab-badge.svg\" alt=\"Open In Colab\"/></a>"
      ]
    },
    {
      "cell_type": "code",
      "execution_count": 3,
      "metadata": {
        "colab": {
          "base_uri": "https://localhost:8080/"
        },
        "id": "qUme6rizAeb4",
        "outputId": "a057876f-a2d0-4038-8a96-1fb441ef0ffe"
      },
      "outputs": [
        {
          "output_type": "stream",
          "name": "stdout",
          "text": [
            "Enter a string : HEllo WORld\n",
            "The count of vowels in 0 is 3\n"
          ]
        }
      ],
      "source": [
        "a = input(\"Enter a string : \")\n",
        "s = a.lower()\n",
        "a= s.count('a')\n",
        "e= s.count('e')\n",
        "i= s.count('i')\n",
        "o= s.count('o')\n",
        "u= s.count('u')\n",
        "print(f\"The count of vowels in {a} is {a+e+i+o+u}\")"
      ]
    },
    {
      "cell_type": "code",
      "source": [
        "maths = int(input(\"Marks in maths: \"))\n",
        "english = int(input(\"Marks in English: \"))\n",
        "science = int(input(\"Marks in science: \"))\n",
        "average = (maths+english+science)/3\n",
        "print(f\"Average is {average:.1f}\")\n",
        "if (average>90):\n",
        "  print(\"Grade is A\")\n",
        "elif (average>80 and average<90):\n",
        "  print(\"Grade is B\")\n",
        "elif (average>70 and average<80):\n",
        "  print(\"Grade is C\")\n",
        "elif (average>60 and average<70):\n",
        "  print(\"Grade is D\")\n",
        "else:\n",
        "  print(Fail)\n"
      ],
      "metadata": {
        "colab": {
          "base_uri": "https://localhost:8080/"
        },
        "id": "GNT1I1lbDx1T",
        "outputId": "a884a418-6499-4826-d513-ccc34ec8929d"
      },
      "execution_count": 12,
      "outputs": [
        {
          "output_type": "stream",
          "name": "stdout",
          "text": [
            "Marks in maths: 100\n",
            "Marks in English: 25\n",
            "Marks in science: 100\n",
            "Average is 75.0\n",
            "Grade is C\n"
          ]
        }
      ]
    },
    {
      "cell_type": "code",
      "source": [
        "a = input(\"Enter the string: \")\n",
        "e = a.lower()\n",
        "s=e[::-1]\n",
        "if (e==s):\n",
        "  print(f\"{a} is a palindrome , palindrome is {s}\")\n",
        "else:\n",
        "  print(f\"{a} is not a palindrome\")"
      ],
      "metadata": {
        "colab": {
          "base_uri": "https://localhost:8080/"
        },
        "id": "qkHXYO8UHhsX",
        "outputId": "16e0cf81-e261-4bc7-a19a-83b306835e30"
      },
      "execution_count": 22,
      "outputs": [
        {
          "output_type": "stream",
          "name": "stdout",
          "text": [
            "Enter the string: RADar\n",
            "RADar is a palindrome , palindrome is radar\n"
          ]
        }
      ]
    },
    {
      "cell_type": "code",
      "source": [
        "a = input(\"Enter a string : \")\n",
        "print(a)"
      ],
      "metadata": {
        "colab": {
          "base_uri": "https://localhost:8080/"
        },
        "id": "tXVOUKDoMu30",
        "outputId": "e6c85bd1-311e-4316-9c7c-35c647ddf117"
      },
      "execution_count": 29,
      "outputs": [
        {
          "output_type": "stream",
          "name": "stdout",
          "text": [
            "Enter a string : hakim pasha Dude\n",
            "hakim pasha Dude\n"
          ]
        }
      ]
    },
    {
      "cell_type": "code",
      "source": [
        "a = input(\"Enter a string : \")\n",
        "b = a[::-1]\n",
        "print(b)"
      ],
      "metadata": {
        "colab": {
          "base_uri": "https://localhost:8080/"
        },
        "id": "ZkYmk55jLGtQ",
        "outputId": "0b80fba4-a20f-4450-8e75-103a8a189b99"
      },
      "execution_count": 25,
      "outputs": [
        {
          "output_type": "stream",
          "name": "stdout",
          "text": [
            "Enter a string : hakim pasha\n",
            "ahsap mikah\n"
          ]
        }
      ]
    },
    {
      "cell_type": "code",
      "source": [
        "a = input(\"Enter a string : \")\n",
        "b = a[2:]\n",
        "print(b)"
      ],
      "metadata": {
        "colab": {
          "base_uri": "https://localhost:8080/"
        },
        "id": "AXPWRcY_MWtx",
        "outputId": "4d7db7e3-5341-4483-9008-548f424449d7"
      },
      "execution_count": 27,
      "outputs": [
        {
          "output_type": "stream",
          "name": "stdout",
          "text": [
            "Enter a string : hakim pasha\n",
            "kim pasha\n"
          ]
        }
      ]
    },
    {
      "cell_type": "code",
      "source": [
        "a = input(\"Enter a string : \")\n",
        "b = a[2]\n",
        "print(b)"
      ],
      "metadata": {
        "colab": {
          "base_uri": "https://localhost:8080/"
        },
        "id": "5disV2A9Ml0H",
        "outputId": "b7652a43-eb8d-4ec4-d628-490697256b61"
      },
      "execution_count": 28,
      "outputs": [
        {
          "output_type": "stream",
          "name": "stdout",
          "text": [
            "Enter a string : hakim pasha\n",
            "k\n"
          ]
        }
      ]
    },
    {
      "cell_type": "code",
      "source": [
        "a = input(\"Enter a string : \")\n",
        "b = a[2:10:3]\n",
        "print(b)"
      ],
      "metadata": {
        "colab": {
          "base_uri": "https://localhost:8080/"
        },
        "id": "06_S0bXRM5de",
        "outputId": "ae2274a0-4901-487a-cd8c-57cc36b18847"
      },
      "execution_count": 36,
      "outputs": [
        {
          "output_type": "stream",
          "name": "stdout",
          "text": [
            "Enter a string : hakim pasha\n",
            "k s\n"
          ]
        }
      ]
    },
    {
      "cell_type": "code",
      "source": [
        "a = input(\"Enter a string: \")\n",
        "s = a.lower()\n",
        "print(f\"The total number of vowels in '{a}' is {s.count('a') + s.count('e') + s.count('i') + s.count('o') + s.count('u')}\")\n"
      ],
      "metadata": {
        "colab": {
          "base_uri": "https://localhost:8080/"
        },
        "id": "nK8iQCDpR5_3",
        "outputId": "72824166-ba93-4419-ee70-91befdaf3aa0"
      },
      "execution_count": 37,
      "outputs": [
        {
          "output_type": "stream",
          "name": "stdout",
          "text": [
            "Enter a string: hello world\n",
            "The total number of vowels in 'hello world' is 3\n"
          ]
        }
      ]
    },
    {
      "cell_type": "code",
      "source": [
        "a=input(\"Enter a string: \")\n",
        "b=len(a)\n",
        "print(b)"
      ],
      "metadata": {
        "colab": {
          "base_uri": "https://localhost:8080/"
        },
        "id": "YXGiqdtXSsqs",
        "outputId": "2e4d3879-a915-4eba-a3cb-2735d24fa181"
      },
      "execution_count": 40,
      "outputs": [
        {
          "output_type": "stream",
          "name": "stdout",
          "text": [
            "Enter a string: hello\n",
            "5\n"
          ]
        }
      ]
    },
    {
      "cell_type": "code",
      "source": [
        "a = input(\"Enter a string: \")\n",
        "b=a.replace('a','z')\n",
        "print(b)\n"
      ],
      "metadata": {
        "colab": {
          "base_uri": "https://localhost:8080/"
        },
        "id": "d7tI52LrTFh6",
        "outputId": "7a0e9818-a4dc-4d8b-97d6-dc9a6f6a0ea0"
      },
      "execution_count": 43,
      "outputs": [
        {
          "output_type": "stream",
          "name": "stdout",
          "text": [
            "Enter a string: hai\n",
            "hzi\n"
          ]
        }
      ]
    },
    {
      "cell_type": "code",
      "source": [],
      "metadata": {
        "id": "jfCPvflsTyMb"
      },
      "execution_count": null,
      "outputs": []
    }
  ]
}